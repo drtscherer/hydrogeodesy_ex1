{
 "cells": [
  {
   "cell_type": "markdown",
   "metadata": {},
   "source": [
    "# Hydrogeodesy: Monitoring surface waters from space\n",
    "### Exercise 1: From measured ranges to water level & pre-processed inland altimetry products\n",
    "\n",
    "Daniel Scherer, DGFI-TUM  \n",
    "Wintersemester 2022/23\n",
    "\n",
    "**Contents**\n",
    "1. Height estimation and retracker comparison\n",
    "2. Water level time series\n",
    "3. Waveform analysis (optional)\n",
    "\n",
    "**Study Area: Lake Stamford (Texas, USA)**  \n",
    "![AOI](aoi.Png)  \n",
    "*Figure 1: Lake Stamford*  \n",
    "\n",
    "| Area Variation | Water Level Variation |\n",
    "| --- | --- |\n",
    "| 3 – 18 km² | 426 – 431 m |"
   ]
  },
  {
   "cell_type": "markdown",
   "metadata": {},
   "source": [
    "First import some required libraries:"
   ]
  },
  {
   "cell_type": "code",
   "execution_count": 35,
   "metadata": {},
   "outputs": [],
   "source": [
    "import pathlib # Just simplifies the handling of pathes\n",
    "import netCDF4 as nc # required to open netcdf files\n",
    "import matplotlib.pyplot as plt # standard plotting library\n",
    "import numpy as np # fundamental package for scientific computing with Python"
   ]
  },
  {
   "cell_type": "markdown",
   "metadata": {},
   "source": [
    "### 1. Height estimation and retracker comparison\n",
    "\n",
    "Satellite altimetry data is commonly provided by **pass** and **cyle** numbers.  \n",
    "The pass number identifies a segment (usually pole to pole or equator intersection to equator intersection) of the repeating groundtrack.  \n",
    "The cycle number identifies the repetition of the groundtrack.\n",
    "\n",
    "We use data with DGFI-TUM's internal dataformat **MVA**.\n",
    "  \n",
    "The example water body \"Lake Stamford\" intersects with pass number 230 of the Jason-2 mission.  \n",
    "Please choose a cycle number between 50 and 300 when loading the data below:"
   ]
  },
  {
   "cell_type": "code",
   "execution_count": null,
   "metadata": {},
   "outputs": [],
   "source": [
    "cycle_nr = ... # Choose a number between 50 and 300 \n",
    "mva_data_root = pathlib.Path('data/lake_stamford/mva')\n",
    "dset = nc.Dataset(mva_data_root / f'jason2_{cycle_nr:03d}_0230.nc')"
   ]
  },
  {
   "cell_type": "markdown",
   "metadata": {},
   "source": [
    "Now we load all variables:"
   ]
  },
  {
   "cell_type": "code",
   "execution_count": 8,
   "metadata": {},
   "outputs": [],
   "source": [
    "lon = dset[\"glon\"][:] # longitude\n",
    "lat = dset[\"glat\"][:] # latitude\n",
    "jday = dset[\"jday\"][:] # julian day of measurement\n",
    "geoh = dset[\"geoh\"][:] # geoid\n",
    "hsat = dset[\"hsat\"][:] # satellite height\n",
    "wtrop = dset[\"wtrop\"][:] # wet troposhpere component\n",
    "dtrop = dset[\"dtrop\"][:] # dry troposphere component\n",
    "ionos = dset[\"ionos\"][:] # ionosphere\n",
    "etide = dset[\"etide\"][:] # earth tide\n",
    "ptide = dset[\"ptide\"][:] # pole tide\n",
    "uralt = dset[\"uralt\"][:] # uncoreected range\n",
    "ralt_ocean = dset[\"ralt_ocean\"][:] # range from ocean retracker\n",
    "ralt_ice = dset[\"ralt_ice\"][:] # range from ice retracker\n",
    "ralt_dahiti = dset[\"ralt_imth_dahiti\"][:] # range from dahiti (improved thresholds) retracker\n",
    "dset.close()"
   ]
  },
  {
   "cell_type": "markdown",
   "metadata": {},
   "source": [
    "Calculate the water level using range from the ice, ocean, and dahiti retracker:"
   ]
  },
  {
   "cell_type": "code",
   "execution_count": 61,
   "metadata": {},
   "outputs": [],
   "source": [
    "heights_ice = ...\n",
    "heights_ocean = ...\n",
    "heights_dahiti = ..."
   ]
  },
  {
   "cell_type": "markdown",
   "metadata": {},
   "source": [
    "Now we can plot the calculated water levels along the latitude component of the orbit groundtrack:"
   ]
  },
  {
   "cell_type": "code",
   "execution_count": null,
   "metadata": {},
   "outputs": [],
   "source": [
    "fig, ax = plt.subplots()\n",
    "ax.plot(lat,heights_ice,marker='.',color=\"r\",label='Ice')\n",
    "ax.plot(lat,heights_ocean,marker='.',color=\"k\",label='Ocean')\n",
    "ax.plot(lat,heights_dahiti,marker='.',color=\"b\",label='DAHITI')\n",
    "plt.legend(title='Retracker')\n",
    "plt.xlabel(\"Latitude [˚]\")\n",
    "plt.ylabel(\"Water Level [m]\")\n",
    "plt.title(f\"Retracked Water Level for Lake Stamford. Jason-2 Pass 230, Cycle {cycle_nr:03d}\")\n",
    "plt.show()"
   ]
  },
  {
   "cell_type": "markdown",
   "metadata": {},
   "source": [
    "Think about the following questions:  \n",
    "- Which geophysical correction is most significant?  \n",
    "- What effect do you recognize looking at the plotted heights along the altimeter track?  \n",
    "- How do the results differ by retracker?  \n",
    "- What would be the best method to calculate a suitable single water level for this overflight (cycle)?\n",
    "\n",
    "Compare the results with other cycle numbers."
   ]
  },
  {
   "cell_type": "markdown",
   "metadata": {},
   "source": [
    "### 2. Water Level Time Series\n",
    "\n",
    "Based on Figure 1 and your plotted heights by latitude, chose suitable outlier criteria for latitude and height so we can reject corrupted measurements in the following."
   ]
  },
  {
   "cell_type": "code",
   "execution_count": 75,
   "metadata": {},
   "outputs": [],
   "source": [
    "min_lat = ...\n",
    "max_lat = ...\n",
    "min_height = ...\n",
    "max_height = ..."
   ]
  },
  {
   "cell_type": "markdown",
   "metadata": {},
   "source": [
    "This time we define a function for applying the corrections:"
   ]
  },
  {
   "cell_type": "code",
   "execution_count": 59,
   "metadata": {},
   "outputs": [],
   "source": [
    "def get_heights(dset, retracker : str):\n",
    "    return dset['hsat'][:] - dset[retracker][:] - ..."
   ]
  },
  {
   "cell_type": "markdown",
   "metadata": {},
   "source": [
    "Now we iterate all cycles and calculate the mean height per retracker and cycle:"
   ]
  },
  {
   "cell_type": "code",
   "execution_count": 76,
   "metadata": {},
   "outputs": [],
   "source": [
    "mva_data_root = pathlib.Path('data/lake_stamford/mva')\n",
    "\n",
    "x_jdays_ocean, y_heights_ocean = [], []\n",
    "x_jdays_ice, y_heights_ice = [], []\n",
    "x_jdays_dahiti, y_heights_dahiti = [], []\n",
    "\n",
    "for mva_file in sorted(mva_data_root.iterdir()):\n",
    "    dset = nc.Dataset(mva_file)\n",
    "\n",
    "    # Estimate Heights\n",
    "    h_ocean = get_heights(dset, 'ralt_ocean')\n",
    "    h_ice = get_heights(dset, 'ralt_ice')\n",
    "    h_dahiti = get_heights(dset, 'ralt_imth_dahiti')\n",
    "    lat = dset['glat'][:]\n",
    "    jday = dset['jday'][:]\n",
    "\n",
    "    # Outlier Rejection\n",
    "    lat_mask = np.bitwise_and(lat > min_lat, lat < max_lat)\n",
    "    ocean_mask = np.bitwise_and(h_ocean > min_height, h_ocean < max_height)\n",
    "    ice_mask = np.bitwise_and(h_ice > min_height, h_ice < max_height)\n",
    "    dahiti_mask = np.bitwise_and(h_dahiti > min_height, h_dahiti < max_height)\n",
    "    \n",
    "    # get mean date\n",
    "    x_jdays_ice.append(np.nanmean(jday[ice_mask & lat_mask]))\n",
    "    x_jdays_ocean.append(np.nanmean(jday[ocean_mask & lat_mask]))\n",
    "    x_jdays_dahiti.append(np.nanmean(jday[dahiti_mask & lat_mask]))\n",
    "    \n",
    "    # get mean height\n",
    "    y_heights_ice.append(np.nanmean(h_ice[ice_mask & lat_mask]))\n",
    "    y_heights_ocean.append(np.nanmean(h_ocean[ocean_mask & lat_mask]))\n",
    "    y_heights_dahiti.append(np.nanmean(h_dahiti[dahiti_mask & lat_mask]))\n",
    "    \n",
    "    dset.close()"
   ]
  },
  {
   "cell_type": "markdown",
   "metadata": {},
   "source": [
    "Plot the Time Series:"
   ]
  },
  {
   "cell_type": "code",
   "execution_count": null,
   "metadata": {},
   "outputs": [],
   "source": [
    "fig, ax = plt.subplots()\n",
    "ax.plot(x_jdays_ice,y_heights_ice,marker='.',color=\"r\",label='Ice')\n",
    "ax.plot(x_jdays_ocean,y_heights_ocean,marker='.',color=\"k\",label='Ocean')\n",
    "ax.plot(x_jdays_dahiti,y_heights_dahiti,marker='.',color=\"b\",label='DAHITI')\n",
    "plt.legend(title='Retracker')\n",
    "plt.xlabel(\"Julian Day\")\n",
    "plt.ylabel(\"Water Level [m]\")\n",
    "plt.title(\"Water Level Time Series for Lake Stamford.\")\n",
    "plt.show()"
   ]
  },
  {
   "cell_type": "markdown",
   "metadata": {},
   "source": [
    "- What differences do you notice between the time series?\n",
    "\n",
    "- Can you see improvements or overall changing results when adjusting the outlier criteria?"
   ]
  },
  {
   "cell_type": "markdown",
   "metadata": {},
   "source": [
    "### 3. Waveform Analysis"
   ]
  },
  {
   "cell_type": "markdown",
   "metadata": {},
   "source": [
    "Optional: Plot all waveforms of one cycle. The waveforms are stored in **dset['waveform_dahiti']**\n",
    "\n",
    "- How can you describe the waveforms?\n",
    "- How do they differ by latitude?"
   ]
  }
 ],
 "metadata": {
  "kernelspec": {
   "display_name": "Python 3.11.0 64-bit",
   "language": "python",
   "name": "python3"
  },
  "language_info": {
   "codemirror_mode": {
    "name": "ipython",
    "version": 3
   },
   "file_extension": ".py",
   "mimetype": "text/x-python",
   "name": "python",
   "nbconvert_exporter": "python",
   "pygments_lexer": "ipython3",
   "version": "3.11.0"
  },
  "orig_nbformat": 4,
  "vscode": {
   "interpreter": {
    "hash": "aee8b7b246df8f9039afb4144a1f6fd8d2ca17a180786b69acc140d282b71a49"
   }
  }
 },
 "nbformat": 4,
 "nbformat_minor": 2
}
